{
 "cells": [
  {
   "cell_type": "code",
   "execution_count": 1,
   "metadata": {},
   "outputs": [],
   "source": [
    "import mysql.connector\n",
    "import pandas as pd\n",
    "\n",
    "# Load the data from Excel and convert the date format\n",
    "df_sales = pd.read_csv('CSV_Sales_Data_updated_Sep 2023.csv')\n",
    "df_sales['Sale Date'] = pd.to_datetime(df_sales['Sale Date'], format='%d/%m/%Y').dt.strftime('%Y-%m-%d')\n",
    "\n",
    "# Connect to MySQL\n",
    "connection = mysql.connector.connect(\n",
    "    host=\"localhost\",\n",
    "    user=\"root\",\n",
    "    password=\"root\",\n",
    "    database=\"timperio\"\n",
    ")\n",
    "\n",
    "cursor = connection.cursor()\n",
    "\n",
    "# Insert the data into the MySQL table\n",
    "for index, row in df_sales.iterrows():\n",
    "    sql = \"\"\"\n",
    "    INSERT INTO sales (row_no, sale_date, sale_type, digital, customer_id, zip_code, \n",
    "                          shipping_method, product, variant, quantity, price, product_price) \n",
    "    VALUES (%s, %s, %s, %s, %s, %s, %s, %s, %s, %s, %s, %s)\n",
    "    \"\"\"\n",
    "    values = (\n",
    "        row['Row No.'],\n",
    "        row['Sale Date'],\n",
    "        row['Sale Type'],\n",
    "        row['Digital'],\n",
    "        row['Customer ID'],\n",
    "        row['ZipCode'],\n",
    "        row['Shipping Method'],\n",
    "        row['Product'],\n",
    "        row['Variant'],\n",
    "        row['Quantity'],\n",
    "        row['Price'],\n",
    "        row['Product Price']\n",
    "    )\n",
    "    cursor.execute(sql, values)\n",
    "\n",
    "# Commit and close\n",
    "connection.commit()\n",
    "cursor.close()\n",
    "connection.close()\n"
   ]
  },
  {
   "cell_type": "code",
   "execution_count": null,
   "metadata": {},
   "outputs": [],
   "source": []
  }
 ],
 "metadata": {
  "kernelspec": {
   "display_name": "Python 3",
   "language": "python",
   "name": "python3"
  },
  "language_info": {
   "codemirror_mode": {
    "name": "ipython",
    "version": 3
   },
   "file_extension": ".py",
   "mimetype": "text/x-python",
   "name": "python",
   "nbconvert_exporter": "python",
   "pygments_lexer": "ipython3",
   "version": "3.8.1"
  }
 },
 "nbformat": 4,
 "nbformat_minor": 2
}
