{
 "cells": [
  {
   "cell_type": "code",
   "execution_count": null,
   "metadata": {},
   "outputs": [],
   "source": [
    "import mysql.connector\n",
    "import pandas as pd\n",
    "\n",
    "from mysql.connector import errorcode\n",
    "\n",
    "# Connect to MySQL\n",
    "try:\n",
    "    connection = mysql.connector.connect(\n",
    "    host=\"localhost\",\n",
    "    user=\"root\",\n",
    "    password=\"password\",\n",
    "    database=\"timperio\"\n",
    ")\n",
    "except mysql.connector.Error as err:\n",
    "    if err.errno == errorcode.ER_ACCESS_DENIED_ERROR:\n",
    "        print(\"Something is wrong with your username/password\")\n",
    "    elif err.errno == errorcode.ER_BAD_DB_ERROR:\n",
    "        print(\"Database does not exist\")\n",
    "    else:\n",
    "        print(err)\n",
    "\n",
    "cursor = connection.cursor()\n"
   ]
  },
  {
   "cell_type": "code",
   "execution_count": null,
   "metadata": {},
   "outputs": [],
   "source": []
  },
  {
   "cell_type": "code",
   "execution_count": null,
   "metadata": {},
   "outputs": [],
   "source": [
    "# Load the data from Excel and convert the date format\n",
    "df_sales = pd.read_csv('CSV_Sales_Data_updated_Sep 2023.csv')\n",
    "df_sales['Sale Date'] = pd.to_datetime(df_sales['Sale Date'], format='%d/%m/%Y').dt.strftime('%Y-%m-%d')\n",
    "df_sales = df_sales.replace({float(\"NaN\"): None})"
   ]
  },
  {
   "cell_type": "code",
   "execution_count": null,
   "metadata": {},
   "outputs": [],
   "source": [
    "# Insert the data into the MySQL table\n",
    "for index, row in df_sales.iterrows():\n",
    "    sql = \"\"\"\n",
    "    INSERT INTO sales (row_no, sale_date, sale_type, digital, customer_id, zip_code, \n",
    "                          shipping_method, product, variant, quantity, price, product_price) \n",
    "    VALUES (%s, %s, %s, %s, %s, %s, %s, %s, %s, %s, %s, %s)\n",
    "    \"\"\"\n",
    "    values = (\n",
    "        row['Row No.'],\n",
    "        row['Sale Date'],\n",
    "        row['Sale Type'],\n",
    "        row['Digital'],\n",
    "        row['Customer ID'],\n",
    "        row['ZipCode'],\n",
    "        row['Shipping Method'],\n",
    "        row['Product'],\n",
    "        row['Variant'],\n",
    "        row['Quantity'],\n",
    "        row['Price'],\n",
    "        row['Product Price']\n",
    "    )\n",
    "    cursor.execute(sql, values)"
   ]
  },
  {
   "cell_type": "code",
   "execution_count": null,
   "metadata": {},
   "outputs": [],
   "source": [
    "# Commit and close\n",
    "connection.commit()\n",
    "cursor.close()\n",
    "connection.close()"
   ]
  },
  {
   "cell_type": "markdown",
   "metadata": {},
   "source": []
  }
 ],
 "metadata": {
  "kernelspec": {
   "display_name": "base",
   "language": "python",
   "name": "python3"
  },
  "language_info": {
   "codemirror_mode": {
    "name": "ipython",
    "version": 3
   },
   "file_extension": ".py",
   "mimetype": "text/x-python",
   "name": "python",
   "nbconvert_exporter": "python",
   "pygments_lexer": "ipython3",
   "version": "3.11.7"
  }
 },
 "nbformat": 4,
 "nbformat_minor": 2
}
