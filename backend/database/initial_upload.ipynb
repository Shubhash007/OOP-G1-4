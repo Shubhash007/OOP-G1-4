{
 "cells": [
  {
   "cell_type": "code",
   "execution_count": 6,
   "metadata": {},
   "outputs": [],
   "source": [
    "# import necessary libraries\n",
    "from datetime import date, datetime, timedelta\n",
    "import mysql.connector\n",
    "from mysql.connector import errorcode\n",
    "import pandas as pd\n",
    "\n",
    "DB_NAME = 'timperio'\n",
    "USERNAME = 'root'\n",
    "PASSWORD = 'password'\n",
    "HOST = 'localhost'\n",
    "\n",
    "# connect to the database\n",
    "try:\n",
    "    connection = mysql.connector.connect(host=HOST, user=USERNAME, password=PASSWORD, database=DB_NAME)\n",
    "except mysql.connector.Error as err:\n",
    "    if err.errno == errorcode.ER_ACCESS_DENIED_ERROR:\n",
    "        print(\"Something is wrong with your username/password\")\n",
    "    elif err.errno == errorcode.ER_BAD_DB_ERROR:\n",
    "        print(\"Database does not exist\")\n",
    "    else:\n",
    "        print(err)\n",
    "        \n",
    "cursor = connection.cursor()"
   ]
  },
  {
   "cell_type": "code",
   "execution_count": 7,
   "metadata": {},
   "outputs": [],
   "source": [
    "# Load the data from Excel and convert the date format\n",
    "df_sales = pd.read_csv('CSV_Sales_Data_updated_Sep 2023.csv')\n",
    "# df_sales['Sale Date'] = pd.to_datetime(df_sales['Sale Date'], format='%d/%m/%Y').dt.strftime('%Y-%m-%d')\n",
    "df_sales = df_sales.replace({float(\"NaN\"): None})"
   ]
  },
  {
   "cell_type": "code",
   "execution_count": 8,
   "metadata": {},
   "outputs": [
    {
     "name": "stdout",
     "output_type": "stream",
     "text": [
      "1062 (23000): Duplicate entry '2' for key 'customers.PRIMARY'\n"
     ]
    }
   ],
   "source": [
    "# Insert the data into the database\n",
    "# Have to insert data in this order: Customer, Product, Sale\n",
    "\n",
    "# Insert data into Customer table\n",
    "try:\n",
    "    for index, row in df_sales.iterrows():\n",
    "        sql = \"\"\"\n",
    "        INSERT INTO customers (customer_id, zipcode) VALUES (%s, %s)\n",
    "        ON DUPLICATE KEY UPDATE `zipcode` = VALUES (zipcode)\n",
    "        \"\"\"\n",
    "        \n",
    "        values = (\n",
    "            row['Customer ID'],\n",
    "            row['ZipCode']\n",
    "        )\n",
    "        cursor.execute(sql, values)\n",
    "        connection.commit()\n",
    "except mysql.connector.Error as err:\n",
    "    print(err)"
   ]
  },
  {
   "cell_type": "markdown",
   "metadata": {},
   "source": []
  },
  {
   "cell_type": "code",
   "execution_count": 9,
   "metadata": {},
   "outputs": [],
   "source": [
    "# close cursor and connection\n",
    "cursor.close()\n",
    "connection.close()"
   ]
  }
 ],
 "metadata": {
  "kernelspec": {
   "display_name": "base",
   "language": "python",
   "name": "python3"
  },
  "language_info": {
   "codemirror_mode": {
    "name": "ipython",
    "version": 3
   },
   "file_extension": ".py",
   "mimetype": "text/x-python",
   "name": "python",
   "nbconvert_exporter": "python",
   "pygments_lexer": "ipython3",
   "version": "3.11.7"
  }
 },
 "nbformat": 4,
 "nbformat_minor": 2
}
