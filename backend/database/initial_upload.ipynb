{
 "cells": [
  {
   "cell_type": "code",
   "execution_count": 83,
   "metadata": {},
   "outputs": [],
   "source": [
    "# import necessary libraries\n",
    "from datetime import date, datetime, timedelta\n",
    "import mysql.connector\n",
    "from mysql.connector import errorcode\n",
    "import pandas as pd\n",
    "\n",
    "DB_NAME = 'timperio'\n",
    "USERNAME = 'root'\n",
    "PASSWORD = 'password'\n",
    "HOST = 'localhost'\n",
    "\n",
    "# connect to the database\n",
    "try:\n",
    "    connection = mysql.connector.connect(host=HOST, user=USERNAME, password=PASSWORD, database=DB_NAME)\n",
    "except mysql.connector.Error as err:\n",
    "    if err.errno == errorcode.ER_ACCESS_DENIED_ERROR:\n",
    "        print(\"Something is wrong with your username/password\")\n",
    "    elif err.errno == errorcode.ER_BAD_DB_ERROR:\n",
    "        print(\"Database does not exist\")\n",
    "    else:\n",
    "        print(err)\n",
    "        \n",
    "cursor = connection.cursor()"
   ]
  },
  {
   "cell_type": "code",
   "execution_count": 84,
   "metadata": {},
   "outputs": [
    {
     "name": "stderr",
     "output_type": "stream",
     "text": [
      "/var/folders/75/0wdzm0qd6qqgtzrtbxszyss80000gn/T/ipykernel_88544/757648862.py:6: UserWarning: Parsing dates in %d/%m/%Y format when dayfirst=False (the default) was specified. Pass `dayfirst=True` or specify a format to silence this warning.\n",
      "  df_sales['Sale Date'] = pd.to_datetime(df_sales['Sale Date'], errors='coerce').dt.strftime('%Y-%m-%d')\n"
     ]
    }
   ],
   "source": [
    "# Load the data from Excel and convert the date format\n",
    "df_sales = pd.read_csv('CSV_Sales_Data_updated_Sep 2023.csv')\n",
    "# df_sales['Sale Date'] = pd.to_datetime(df_sales['Sale Date'], format='%d/%m/%Y').dt.strftime('%Y-%m-%d')\n",
    "\n",
    "# Convert 'Sale Date' to the proper format if needed\n",
    "df_sales['Sale Date'] = pd.to_datetime(df_sales['Sale Date'], errors='coerce').dt.strftime('%Y-%m-%d')\n",
    "df_sales = df_sales.replace({float(\"NaN\"): None})"
   ]
  },
  {
   "cell_type": "code",
   "execution_count": 85,
   "metadata": {},
   "outputs": [],
   "source": [
    "# Insert the data into the database\n",
    "# Have to insert data in this order: Customer, Product, Sale\n",
    "\n",
    "# Insert data into Customer table\n",
    "try:\n",
    "    for index, row in df_sales.iterrows():\n",
    "        sql = \"\"\"\n",
    "        INSERT INTO customers (customer_id, zipcode) VALUES (%s, COALESCE(%s, 0))\n",
    "        ON DUPLICATE KEY UPDATE \n",
    "            `zipcode` = CASE\n",
    "                WHEN VALUES(zipcode) IS NOT NULL THEN VALUES(zipcode)\n",
    "                ELSE zipcode\n",
    "            END;\n",
    "        \"\"\"\n",
    "        \n",
    "        values = (\n",
    "            row['Customer ID'],\n",
    "            row['ZipCode']\n",
    "        )\n",
    "        cursor.execute(sql, values)\n",
    "        connection.commit()\n",
    "except mysql.connector.Error as err:\n",
    "    print(err)"
   ]
  },
  {
   "cell_type": "code",
   "execution_count": 86,
   "metadata": {},
   "outputs": [],
   "source": [
    "def insert_into_sequence(table_name, next_id):\n",
    "    try:\n",
    "        cursor.execute(\"INSERT IGNORE INTO sequence (table_name, next_id) VALUES (%s, %s)\", (table_name, next_id))\n",
    "        connection.commit()  # Commit transaction\n",
    "    except mysql.connector.Error as err:\n",
    "        print(f\"Error: {err}\")\n",
    "\n",
    "# Call the function\n",
    "insert_into_sequence('product_id', 0)"
   ]
  },
  {
   "cell_type": "code",
   "execution_count": 87,
   "metadata": {},
   "outputs": [],
   "source": [
    "# Insert data into Product table\n",
    "try:\n",
    "    for index, row in df_sales.iterrows():\n",
    "        # Check if there is a product with the same name and variant\n",
    "        cursor.execute(\"SELECT product_id FROM products WHERE product_name = %s AND product_variant = %s\", (row['Product'], row['Variant']))\n",
    "        product = cursor.fetchone()\n",
    "        \n",
    "        if product == None: # if there is no product with the same name and variant\n",
    "            # Lock the sequence row for safe access\n",
    "            cursor.execute(\"SELECT next_id FROM sequence WHERE table_name = 'product_id' FOR UPDATE\")\n",
    "            current_id = cursor.fetchone()[0]\n",
    "            \n",
    "            # Increment the ID\n",
    "            new_id = current_id + 1\n",
    "            cursor.execute(\"UPDATE sequence SET next_id = %s WHERE table_name = 'product_id'\", (new_id,))\n",
    "            \n",
    "            # Insert the new product\n",
    "            sql = \"\"\"\n",
    "            INSERT INTO products (product_id, product_name, product_variant, product_price) VALUES (%s, %s, %s, %s)\n",
    "            \"\"\"\n",
    "            # ON DUPLICATE KEY UPDATE `product_price` = VALUES(product_price);\n",
    "            # \"\"\"\n",
    "        \n",
    "            values = (\n",
    "                new_id,\n",
    "                row['Product'],\n",
    "                row['Variant'],\n",
    "                row['Price']\n",
    "            )\n",
    "            cursor.execute(sql, values)\n",
    "            connection.commit()\n",
    "except mysql.connector.Error as err:\n",
    "    connection.rollback()\n",
    "    print(err)"
   ]
  },
  {
   "cell_type": "code",
   "execution_count": 88,
   "metadata": {},
   "outputs": [],
   "source": [
    "# Insert data into Sales Table\n",
    "insert_into_sequence('sale_id', 0)\n",
    "\n",
    "try:\n",
    "    for index, row in df_sales.iterrows():\n",
    "            # Determine the product\n",
    "            cursor.execute(\"SELECT product_id FROM products WHERE product_name = %s AND product_variant = %s\", (row['Product'], row['Variant']))\n",
    "            product_id = cursor.fetchone()[0]\n",
    "            \n",
    "            # fix the date format\n",
    "        \n",
    "            # Insert the new sale\n",
    "            sql = \"\"\"\n",
    "            INSERT IGNORE INTO sales (sale_date, sale_type, digital, shipping_method, product_id, quantity, original_price, customer_id) VALUES (%s, %s, %s, %s, %s, %s, %s, %s)\n",
    "            \"\"\"\n",
    "        \n",
    "            values = (\n",
    "                row['Sale Date'],\n",
    "                row['Sale Type'],\n",
    "                row['Digital'],\n",
    "                row['Shipping Method'],\n",
    "                product_id,\n",
    "                row['Quantity'],\n",
    "                row['Product Price'],\n",
    "                row['Customer ID']\n",
    "            )\n",
    "            cursor.execute(sql, values)\n",
    "            connection.commit()\n",
    "except mysql.connector.Error as err:\n",
    "    connection.rollback()\n",
    "    print(err)"
   ]
  },
  {
   "cell_type": "code",
   "execution_count": 89,
   "metadata": {},
   "outputs": [],
   "source": [
    "# close cursor and connection\n",
    "cursor.close()\n",
    "connection.close()"
   ]
  }
 ],
 "metadata": {
  "kernelspec": {
   "display_name": "base",
   "language": "python",
   "name": "python3"
  },
  "language_info": {
   "codemirror_mode": {
    "name": "ipython",
    "version": 3
   },
   "file_extension": ".py",
   "mimetype": "text/x-python",
   "name": "python",
   "nbconvert_exporter": "python",
   "pygments_lexer": "ipython3",
   "version": "3.11.7"
  }
 },
 "nbformat": 4,
 "nbformat_minor": 2
}
